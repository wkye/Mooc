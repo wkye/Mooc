{
 "cells": [
  {
   "cell_type": "markdown",
   "metadata": {},
   "source": [
    "# **<font color='Green'>Early Student Failure Detection in Online Learning</font>**\n",
    "\n",
    "\n"
   ]
  },
  {
   "cell_type": "markdown",
   "metadata": {},
   "source": [
    "*A growing platform for learning has been \"personal learning\". One of the key feature of this platform is online learning where students use video modules and online materials to supplement classroom style learning techniques. With the rich data associated with online learning, this project seeks to undertake two important goals*\n",
    "\n",
    "*1) Detect students who are at risk for failure as early as possible*\n",
    "*2) Provide intervention to support these students and prevent adverse outcomes*"
   ]
  },
  {
   "cell_type": "markdown",
   "metadata": {},
   "source": [
    "# Data Cleaning\n",
    "\n",
    "*Using data from Open University on student online activity, assessement scores, and final outcome through the course of a semester, I analyze how early we can detect students who will fail the course*\n",
    "\n",
    "*Important features of the data include daily number of clicks in a forum with a teacher or TA, how often students use online resources like recorded lectures, and student chat groups, practice quiz scores, and test scores*\n",
    "\n",
    "#### <font color='Red'>Import Packages</font>\n"
   ]
  },
  {
   "cell_type": "code",
   "execution_count": 1,
   "metadata": {
    "collapsed": true
   },
   "outputs": [],
   "source": [
    "import pandas as pd\n",
    "import collections\n",
    "import random\n",
    "import scipy as sp\n",
    "import numpy as np\n",
    "import collections\n",
    "from sklearn.decomposition import FactorAnalysis\n",
    "from sklearn.ensemble import RandomForestRegressor, GradientBoostingClassifier, RandomForestClassifier\n",
    "from sklearn.model_selection import train_test_split, cross_val_score\n",
    "from matplotlib import pyplot as plt\n",
    "import re\n",
    "from matplotlib import pyplot as plt\n",
    "plt.style.use('ggplot')\n",
    "import copy\n",
    "pd.options.mode.chained_assignment = None  # default='warn'"
   ]
  },
  {
   "cell_type": "markdown",
   "metadata": {},
   "source": [
    "Import Data"
   ]
  },
  {
   "cell_type": "code",
   "execution_count": 2,
   "metadata": {
    "collapsed": true
   },
   "outputs": [],
   "source": [
    "assessments = pd.read_csv('assessments.csv')\n",
    "courses = pd.read_csv('courses.csv')\n",
    "studentass = pd.read_csv('studentAssessment.csv')\n",
    "studentinfo = pd.read_csv('studentinfo.csv')\n",
    "studentreg = pd.read_csv('studentRegistration.csv')\n",
    "studentvle = pd.read_csv('studentVle.csv')\n",
    "vle = pd.read_csv('vle.csv')"
   ]
  },
  {
   "cell_type": "markdown",
   "metadata": {},
   "source": [
    "Data comes in 7 different files. I merge data to do preliminary analyses"
   ]
  },
  {
   "cell_type": "code",
   "execution_count": 3,
   "metadata": {
    "collapsed": true
   },
   "outputs": [],
   "source": [
    "dset = pd.merge(assessments, studentass, how = 'inner', on = 'id_assessment')\n",
    "dset =pd.merge(dset, studentinfo, how = 'inner', on = ['code_module', 'code_presentation', 'id_student'])\n",
    "dset = pd.merge(dset, courses, how ='inner', on =['code_module', 'code_presentation'])\n",
    "dset = pd.merge(dset, studentreg, how = 'inner', on = ['code_module', 'code_presentation', 'id_student'])\n",
    "ass_nofinal = assessments.loc[assessments.assessment_type != 'Exam']"
   ]
  },
  {
   "cell_type": "markdown",
   "metadata": {},
   "source": [
    "Modules are equivalent to courses. I only examine FFF (lets call it math for simplicity) because courses vary in terms of length of course, weight of examns, number of exams, timing of exams, etc. So I focus just on math for now\n",
    "\n"
   ]
  },
  {
   "cell_type": "code",
   "execution_count": 4,
   "metadata": {
    "collapsed": true
   },
   "outputs": [],
   "source": [
    "vle_fff= vle.loc[vle.code_module == 'FFF']\n",
    "studentvle_fff = studentvle.loc[studentvle.code_module == 'FFF']\n",
    "vle_final_fff = pd.merge(vle_fff, studentvle_fff, how = 'inner', on = ['code_module', 'code_presentation', 'id_site'])"
   ]
  },
  {
   "cell_type": "code",
   "execution_count": 5,
   "metadata": {},
   "outputs": [],
   "source": [
    "dset_fff= dset.loc[dset.code_module == 'FFF']\n"
   ]
  },
  {
   "cell_type": "markdown",
   "metadata": {},
   "source": [
    "Math is taught several times throughout the year, and because dates of courses can vary due to breaks, holidays, etct, I interpolate all the dates so that they represent the same period of time in the course"
   ]
  },
  {
   "cell_type": "code",
   "execution_count": 6,
   "metadata": {},
   "outputs": [],
   "source": [
    "dset_fff.loc[:,'date1'] = list(map(lambda x,y,z: 19 if (x in [24,19] and y =='TMA') else 52 if (x in [47,52] and y =='TMA') else 87 if (x in [89, 87,94,96] and y =='TMA') else 129 if (x in [131,129, 136] and y =='TMA') else 166 if (x in [171,166, 173, 199] and y == 'TMA') else z, dset_fff.loc[:,'date'][:], dset_fff.loc[:,'assessment_type'][:], dset_fff.loc[:,'date_submitted'][:]))         \n",
    "dset_fff.loc[:,'date2'] = list(map(lambda x,y,z: x*(19/24) if (x <=24 and y != 'TMA' and z in ['2014J', '2014B'] ) else x*(47/52) if (x<=52 and y != 'TMA' and z in ['2014J', '2014B']) else (87/96)*x if (x<=96 and y !='TMA' and z =='2013J') else (87/94)*x if (x<=94 and y !='TMA' and z =='2014J') else (87/89)*x if (x<=89 and y !='TMA' and z =='2013B')\n",
    " else x *(129/131) if (x<=131 and y != 'TMA' and z in ['2013J', '2013B']) else x * (129/136) if (x<136 and y!= 'TMA' and z =='2014J') else x*(166/173) if (x<=173 and y != 'TMA' and z =='2013J') else x*(166/199) if (x<=131 and y != 'TMA' and z == '2014J') else x*(166/171) if\n",
    "  (x<=131 and y != 'TMA' and z =='2014B') else x*(240/241) if (x > 171 and z =='2014B') else x*(240/268) if (x > 173 and z =='2013J') else x*(240/269) if (x > 199 and z =='2014J') else x, dset_fff.loc[:,'date1'][:], dset_fff.loc[:,'assessment_type'][:], dset_fff.loc[:,'code_presentation'][:]))\n",
    "#dset_fff=dset_fff.loc[dset_fff.date2 <=240]"
   ]
  },
  {
   "cell_type": "markdown",
   "metadata": {},
   "source": [
    "Given the dates of when students use online materials and take assessmenets, I combine them into weeks. I.E. weekly online interaction, weekly average assessment score, etc."
   ]
  },
  {
   "cell_type": "code",
   "execution_count": 7,
   "metadata": {
    "collapsed": true
   },
   "outputs": [],
   "source": [
    "#group dates into weeks\n",
    "start =0\n",
    "x= 1\n",
    "dset_fff['cat'] = 'group 0'\n",
    "#group = None\n",
    "for i in range(7,236,7):\n",
    "    end = i+1\n",
    "    group = 'group ' + str(x)\n",
    "    dset_fff['cat'] = list(map(lambda z,q: group if start < z < end else q, dset_fff['date2'], dset_fff['cat']))\n",
    "    start = start + 7\n",
    "    x= x+1\n",
    "#summarise data by weeks\n",
    "colFun = {'id_assessment': ['count'],\n",
    "          'weight': ['mean'],\n",
    "          'score': ['mean']}\n",
    "grouped_dset= dset_fff.groupby(['id_student', 'code_presentation', 'cat','assessment_type'], as_index = False).agg(colFun)\n",
    "grouped_dset.columns = ['id_student','code_presentation', 'group','assessment_type','num_assessment','weight','score']\n",
    "#reshape data and convert na to zeros\n",
    "grouped_dset= grouped_dset.pivot_table(values = ['num_assessment','weight','score'], index = ['id_student', 'code_presentation'], columns = ['assessment_type', 'group'])\n",
    "grouped_dset= grouped_dset.reset_index()\n",
    "grouped_dset = grouped_dset.fillna(0)\n",
    "#change column names\n",
    "names = list(grouped_dset.columns)\n",
    "names = list(map(lambda x: ' '.join(x), names))\n",
    "names = list(map(lambda x: x.strip(), names))\n",
    "grouped_dset.columns = names\n",
    "grouped_dset= grouped_dset.loc[:, (grouped_dset != 0).any(axis=0)]\n",
    "#isolate demographic data from non VLE dataset\n",
    "data = dset_fff[[ 'code_presentation','id_student','gender','highest_education','imd_band','age_band','num_of_prev_attempts','studied_credits','disability','final_result']]\n",
    "data = data.drop_duplicates(['code_presentation', 'id_student'])\n",
    "#merge data\n",
    "data1 = pd.merge(data, grouped_dset, how = 'inner', on = ['id_student', 'code_presentation'])"
   ]
  },
  {
   "cell_type": "markdown",
   "metadata": {},
   "source": [
    "Online activity is split it many different categories. I combine them into more meaningful ones. Namely 1) conent- when students interact with content like lectures 2) resources - when student use glossaries, practice quizes, and wiki resources 3) forum - when student use chatrooms for discussing materials 4) overall activity- accessing the homepage and other online interfaces"
   ]
  },
  {
   "cell_type": "code",
   "execution_count": 8,
   "metadata": {
    "collapsed": true
   },
   "outputs": [],
   "source": [
    "vle_final_fff['activity'] = ['content' if x in ['oucontent'] else 'resource' if x in ['resource', 'dataplus', 'glossary', 'ouelluminate', 'ouwiki', 'quiz'] else 'forum' if x in ['forumng', 'oucollaborate'] else 'activity' if x in ['homepage', 'page', 'subpage'] else 'NA' for x in vle_final_fff['activity_type']]\n",
    "vle_final_fff = vle_final_fff.loc[vle_final_fff.activity != 'NA']\n",
    "#reshape long to wide\n",
    "efa_vle = vle_final_fff.pivot_table(values = 'sum_click', index = ['code_presentation', 'id_student', 'date'], columns ='activity', aggfunc='sum')\n",
    "efa_vle = efa_vle.fillna(0)\n",
    "efa_vle = efa_vle.reset_index()\n",
    "#interpolate dates\n",
    "efa_vle['date2'] = list(map(lambda x,z: x*(19/24) if (x <=24  and z in ['2014J', '2014B'] ) else x*(47/52) if (x<=52  and z in ['2014J', '2014B']) else (87/96)*x if (x<=96 and  z =='2013J') else (87/94)*x if (x<=94 and  z =='2014J') else (87/89)*x if (x<=89 and  z =='2013B')\n",
    " else x *(129/131) if (x<=131  and z in ['2013J', '2013B']) else x * (129/136) if (x<136 and  z =='2014J') else x*(166/173) if (x<=173  and z =='2013J') else x*(166/199) if (x<=131  and z == '2014J') else x*(166/171) if\n",
    "  (x<=131  and z =='2014B') else x*(240/241) if (x > 171 and z =='2014B') else x*(240/268) if (x > 173 and z =='2013J') else x*(240/269) if (x > 199 and z =='2014J') else x, efa_vle['date'], efa_vle['code_presentation']))\n",
    "efa_vle=efa_vle.loc[efa_vle.date2 <=240]\n",
    "#group by week\n",
    "start =0\n",
    "x= 1\n",
    "efa_vle['cat'] = 'group 0'\n",
    "#group = None\n",
    "for i in range(7,247,7):\n",
    "    end = i+1\n",
    "    group = 'group ' + str(x)\n",
    "    efa_vle['cat'] = list(map(lambda z,q: group if start < z < end else q, efa_vle['date2'], efa_vle['cat']))\n",
    "    start = start + 7\n",
    "    x= x+1\n",
    "grouped_vle= efa_vle.groupby(['id_student', 'code_presentation', 'cat'], as_index = False).sum()\n",
    "#reshape long to wide\n",
    "grouped_vle= grouped_vle.pivot_table(values = ['activity','content','forum', 'resource'], index = ['id_student', 'code_presentation'], columns = 'cat')\n",
    "### convert NA to zero and rename columns\n",
    "grouped_vle= grouped_vle.reset_index()\n",
    "grouped_vle = grouped_vle.fillna(0)\n",
    "names = list(grouped_vle.columns)\n",
    "names = list(map(lambda x: ' '.join(x), names))\n",
    "names = list(map(lambda x: x.strip(), names))\n",
    "names\n",
    "grouped_vle.columns = names\n",
    "\n"
   ]
  },
  {
   "cell_type": "markdown",
   "metadata": {},
   "source": [
    "Create final dataset"
   ]
  },
  {
   "cell_type": "code",
   "execution_count": 9,
   "metadata": {
    "collapsed": true
   },
   "outputs": [],
   "source": [
    "final_dset = pd.merge(grouped_vle, data1, how = 'inner', on = ['id_student', 'code_presentation'])\n",
    "final_dset.to_csv('sem.csv')"
   ]
  },
  {
   "cell_type": "markdown",
   "metadata": {},
   "source": [
    "# Analysis"
   ]
  },
  {
   "cell_type": "markdown",
   "metadata": {},
   "source": [
    "Target Variable: Pass or Fail"
   ]
  },
  {
   "cell_type": "code",
   "execution_count": 10,
   "metadata": {
    "collapsed": true
   },
   "outputs": [],
   "source": [
    "final_dset['pass'] = ['pass' if x in ['Distinction', 'Pass'] else 'fail' for x in final_dset['final_result']]\n",
    "Y_pass= final_dset['pass']"
   ]
  },
  {
   "cell_type": "markdown",
   "metadata": {},
   "source": [
    "Bar Chart of distribution of students who failed and passed"
   ]
  },
  {
   "cell_type": "code",
   "execution_count": 11,
   "metadata": {},
   "outputs": [
    {
     "data": {
      "image/png": "[encoded data removed]",
      "text/plain": [
       "<matplotlib.figure.Figure at 0x1a16915eb8>"
      ]
     },
     "metadata": {},
     "output_type": "display_data"
    }
   ],
   "source": [
    "x_axis = ['pass', 'fail']\n",
    "y_pos = [sum(Y_pass== 'pass'), sum(Y_pass =='fail')]\n",
    "plt.bar(x_axis, y_pos)\n",
    "plt.show()"
   ]
  },
  {
   "cell_type": "markdown",
   "metadata": {},
   "source": [
    "Predictor Variables"
   ]
  },
  {
   "cell_type": "code",
   "execution_count": 12,
   "metadata": {},
   "outputs": [],
   "source": [
    "predictors = [x for x in final_dset.columns if x not in ['pass', 'final_result', 'id_student','num_of_prev_attempts','code_presentation', 'code','region']]\n",
    "x = final_dset[predictors]\n",
    "x['imd_band'] = [0 if x == '0-10%' else 1 if x=='10-20'else 2 if x== '20-30%'else 3 if  x =='30-40%' else 4 if x== '40-50%'else 5 if  x=='50-60%'else 6 if x== '60-70%'else 7 if x== '70-80%' else 8 if x== '80-90%'else 9 if x == '90-100%' else 3 for x in x['imd_band'].copy()]\n",
    "#create dummy variables\n",
    "x = pd.get_dummies(x, drop_first = True)"
   ]
  },
  {
   "cell_type": "markdown",
   "metadata": {},
   "source": [
    "## Random Forest full model"
   ]
  },
  {
   "cell_type": "code",
   "execution_count": 13,
   "metadata": {
    "collapsed": true
   },
   "outputs": [],
   "source": [
    "rf_full=RandomForestClassifier(n_estimators=500)"
   ]
  },
  {
   "cell_type": "code",
   "execution_count": 14,
   "metadata": {
    "collapsed": true
   },
   "outputs": [],
   "source": [
    "X_train_full, X_test_full, y_p_train_full, y_p_test_full = train_test_split(x, Y_pass, test_size=0.2)"
   ]
  },
  {
   "cell_type": "code",
   "execution_count": 15,
   "metadata": {},
   "outputs": [
    {
     "name": "stdout",
     "output_type": "stream",
     "text": [
      "Score: 0.91653418124\n"
     ]
    }
   ],
   "source": [
    "model_p_full = rf_full.fit(X_train_full, y_p_train_full)\n",
    "print ('Score:', model_p_full.score(X_test_full, y_p_test_full))"
   ]
  },
  {
   "cell_type": "markdown",
   "metadata": {},
   "source": [
    "*The full model with all of the students assessment scores, weekly virtual interaction scores, etc. Is fairly robust at predicting student failure. But this prediction is made with all data available. Or over 30 weeks of data. Can student success of failure be predicted earlier?*"
   ]
  },
  {
   "cell_type": "markdown",
   "metadata": {},
   "source": [
    "## Model with only demographic data"
   ]
  },
  {
   "cell_type": "markdown",
   "metadata": {},
   "source": [
    "this is data of only student demographic data. So the model does not use any course information"
   ]
  },
  {
   "cell_type": "code",
   "execution_count": 16,
   "metadata": {},
   "outputs": [
    {
     "name": "stdout",
     "output_type": "stream",
     "text": [
      "Score: 0.614467408585\n"
     ]
    }
   ],
   "source": [
    "lst = x.columns.tolist()\n",
    "predictors0 = [x for x in lst if re.search('[0-9]', x)==None]\n",
    "x0 = x[predictors0]\n",
    "rf0=RandomForestClassifier(n_estimators = 500)\n",
    "X_train, X_test, y_train, y_test = train_test_split(x0, Y_pass, test_size=0.2)\n",
    "model_null = rf0.fit(X_train,y_train)\n",
    "print ('Score:', model_null.score(X_test, y_test))"
   ]
  },
  {
   "cell_type": "markdown",
   "metadata": {},
   "source": [
    "now with only demographic data, the model can predict success of failure with about 60% accuracy"
   ]
  },
  {
   "cell_type": "markdown",
   "metadata": {},
   "source": [
    "## Model with demographics and first week of data"
   ]
  },
  {
   "cell_type": "code",
   "execution_count": 17,
   "metadata": {},
   "outputs": [
    {
     "name": "stdout",
     "output_type": "stream",
     "text": [
      "Score: 0.60413354531\n"
     ]
    }
   ],
   "source": [
    "predictors1 = [x for x in lst if re.search('group 19$', x)]\n",
    "predictors1 = predictors0 + predictors1\n",
    "x1 = x[predictors0]\n",
    "rf1=RandomForestClassifier(n_estimators = 500)\n",
    "X_train, X_test, y_train, y_test = train_test_split(x1, Y_pass, test_size=0.2)\n",
    "model_1 = rf1.fit(X_train,y_train)\n",
    "print ('Score:', model_1.score(X_test, y_test))"
   ]
  },
  {
   "cell_type": "markdown",
   "metadata": {},
   "source": [
    "slight improvement in model prediction accuracy"
   ]
  },
  {
   "cell_type": "markdown",
   "metadata": {},
   "source": [
    "## Weekly Model improvement"
   ]
  },
  {
   "cell_type": "code",
   "execution_count": 18,
   "metadata": {},
   "outputs": [
    {
     "name": "stdout",
     "output_type": "stream",
     "text": [
      "week0 Score: 0.611287758347\n",
      "week1 Score: 0.644674085851\n",
      "week2 Score: 0.694753577107\n",
      "week3 Score: 0.682034976153\n",
      "week4 Score: 0.697138314785\n",
      "week5 Score: 0.725755166932\n",
      "week6 Score: 0.732909379968\n",
      "week7 Score: 0.717806041335\n",
      "week8 Score: 0.758346581876\n",
      "week9 Score: 0.767885532591\n",
      "week10 Score: 0.767090620032\n",
      "week11 Score: 0.775039745628\n",
      "week12 Score: 0.79173290938\n",
      "week13 Score: 0.85453100159\n",
      "week14 Score: 0.868839427663\n",
      "week15 Score: 0.85453100159\n",
      "week16 Score: 0.859300476948\n",
      "week17 Score: 0.864864864865\n",
      "week18 Score: 0.856120826709\n",
      "week19 Score: 0.903020667727\n",
      "week20 Score: 0.894276629571\n",
      "week21 Score: 0.883147853736\n",
      "week22 Score: 0.902225755167\n",
      "week23 Score: 0.89507154213\n",
      "week24 Score: 0.914149443561\n",
      "week25 Score: 0.904610492846\n",
      "week26 Score: 0.904610492846\n",
      "week27 Score: 0.924483306836\n",
      "week28 Score: 0.919713831479\n",
      "week29 Score: 0.922893481717\n",
      "week30 Score: 0.928457869634\n",
      "week31 Score: 0.935612082671\n",
      "week32 Score: 0.928457869634\n",
      "week33 Score: 0.926073131955\n",
      "week34 Score: 0.945151033386\n",
      "week35 Score: 0.933227344992\n"
     ]
    }
   ],
   "source": [
    "df = {'model': 0, 'classification': [model_1.score(X_test, y_test)]}\n",
    "df = pd.DataFrame(df)\n",
    "predictor_x= [x for x in lst if re.search('[0-9]', x)==None]\n",
    "test = []\n",
    "for i in range(0,36):\n",
    "    predictor = [x for x in lst if re.search('group ' + str(i) +'$', x)]\n",
    "    predictor_x = predictor_x + predictor\n",
    "    test = x[predictor_x]\n",
    "    #print(test.columns)\n",
    "    rf=RandomForestClassifier(n_estimators = 500)\n",
    "    #rf = GradientBoostingClassifier()\n",
    "    X_train, X_test, y_train, y_test = train_test_split(test, Y_pass, test_size=0.2)\n",
    "    model_1 = rf.fit(X_train, y_train)\n",
    "    df= df.append({'model': i+1, 'classification': model_1.score(X_test, y_test)},ignore_index=True )\n",
    "    #print(df)\n",
    "    print ('week' + str(i) + ' Score:', model_1.score(X_test, y_test))\n"
   ]
  },
  {
   "cell_type": "markdown",
   "metadata": {},
   "source": [
    "Steady increase in model prediction accuracy with every additional week of data. However, we see jumps at certain weeks. This coincides with weeks where student had tests"
   ]
  },
  {
   "cell_type": "code",
   "execution_count": 19,
   "metadata": {},
   "outputs": [
    {
     "data": {
      "image/png": "[encoded data removed]",
      "text/plain": [
       "<matplotlib.figure.Figure at 0x1a1739c748>"
      ]
     },
     "metadata": {},
     "output_type": "display_data"
    }
   ],
   "source": [
    "plt.plot(df['model'], df['classification'])\n",
    "plt.show()"
   ]
  },
  {
   "cell_type": "markdown",
   "metadata": {
    "collapsed": true
   },
   "source": [
    "by week 8, the model could predict with 75% accuracy student failure. Over 85% accuracy by week 13. And after week 24, there seems to be marginal gains, suggesting that additional student information does not add to model predictive power"
   ]
  },
  {
   "cell_type": "markdown",
   "metadata": {},
   "source": [
    "## Feature importance"
   ]
  },
  {
   "cell_type": "markdown",
   "metadata": {},
   "source": [
    "The model can predict with confidence student success and failure, but what features does the model identify as important for its prediction? "
   ]
  },
  {
   "cell_type": "code",
   "execution_count": 20,
   "metadata": {},
   "outputs": [
    {
     "data": {
      "text/html": [
       "<div>\n",
       "<style>\n",
       "    .dataframe thead tr:only-child th {\n",
       "        text-align: right;\n",
       "    }\n",
       "\n",
       "    .dataframe thead th {\n",
       "        text-align: left;\n",
       "    }\n",
       "\n",
       "    .dataframe tbody tr th {\n",
       "        vertical-align: top;\n",
       "    }\n",
       "</style>\n",
       "<table border=\"1\" class=\"dataframe\">\n",
       "  <thead>\n",
       "    <tr style=\"text-align: right;\">\n",
       "      <th></th>\n",
       "      <th>0</th>\n",
       "      <th>1</th>\n",
       "    </tr>\n",
       "  </thead>\n",
       "  <tbody>\n",
       "    <tr>\n",
       "      <th>0</th>\n",
       "      <td>score TMA group 24</td>\n",
       "      <td>0.070952</td>\n",
       "    </tr>\n",
       "    <tr>\n",
       "      <th>1</th>\n",
       "      <td>score TMA group 19</td>\n",
       "      <td>0.059748</td>\n",
       "    </tr>\n",
       "    <tr>\n",
       "      <th>2</th>\n",
       "      <td>weight TMA group 24</td>\n",
       "      <td>0.059539</td>\n",
       "    </tr>\n",
       "    <tr>\n",
       "      <th>3</th>\n",
       "      <td>num_assessment TMA group 24</td>\n",
       "      <td>0.048286</td>\n",
       "    </tr>\n",
       "    <tr>\n",
       "      <th>4</th>\n",
       "      <td>activity group 31</td>\n",
       "      <td>0.046408</td>\n",
       "    </tr>\n",
       "    <tr>\n",
       "      <th>5</th>\n",
       "      <td>score TMA group 13</td>\n",
       "      <td>0.034873</td>\n",
       "    </tr>\n",
       "    <tr>\n",
       "      <th>6</th>\n",
       "      <td>activity group 30</td>\n",
       "      <td>0.032986</td>\n",
       "    </tr>\n",
       "    <tr>\n",
       "      <th>7</th>\n",
       "      <td>weight TMA group 19</td>\n",
       "      <td>0.032826</td>\n",
       "    </tr>\n",
       "    <tr>\n",
       "      <th>8</th>\n",
       "      <td>num_assessment TMA group 19</td>\n",
       "      <td>0.031367</td>\n",
       "    </tr>\n",
       "    <tr>\n",
       "      <th>9</th>\n",
       "      <td>activity group 29</td>\n",
       "      <td>0.030231</td>\n",
       "    </tr>\n",
       "    <tr>\n",
       "      <th>10</th>\n",
       "      <td>activity group 24</td>\n",
       "      <td>0.025881</td>\n",
       "    </tr>\n",
       "    <tr>\n",
       "      <th>11</th>\n",
       "      <td>activity group 28</td>\n",
       "      <td>0.023215</td>\n",
       "    </tr>\n",
       "    <tr>\n",
       "      <th>12</th>\n",
       "      <td>content group 30</td>\n",
       "      <td>0.023054</td>\n",
       "    </tr>\n",
       "    <tr>\n",
       "      <th>13</th>\n",
       "      <td>activity group 23</td>\n",
       "      <td>0.021040</td>\n",
       "    </tr>\n",
       "    <tr>\n",
       "      <th>14</th>\n",
       "      <td>content group 31</td>\n",
       "      <td>0.018768</td>\n",
       "    </tr>\n",
       "    <tr>\n",
       "      <th>15</th>\n",
       "      <td>activity group 26</td>\n",
       "      <td>0.017186</td>\n",
       "    </tr>\n",
       "    <tr>\n",
       "      <th>16</th>\n",
       "      <td>activity group 27</td>\n",
       "      <td>0.016838</td>\n",
       "    </tr>\n",
       "    <tr>\n",
       "      <th>17</th>\n",
       "      <td>content group 29</td>\n",
       "      <td>0.015683</td>\n",
       "    </tr>\n",
       "    <tr>\n",
       "      <th>18</th>\n",
       "      <td>activity group 21</td>\n",
       "      <td>0.015683</td>\n",
       "    </tr>\n",
       "    <tr>\n",
       "      <th>19</th>\n",
       "      <td>content group 23</td>\n",
       "      <td>0.012730</td>\n",
       "    </tr>\n",
       "  </tbody>\n",
       "</table>\n",
       "</div>"
      ],
      "text/plain": [
       "                              0         1\n",
       "0            score TMA group 24  0.070952\n",
       "1            score TMA group 19  0.059748\n",
       "2           weight TMA group 24  0.059539\n",
       "3   num_assessment TMA group 24  0.048286\n",
       "4             activity group 31  0.046408\n",
       "5            score TMA group 13  0.034873\n",
       "6             activity group 30  0.032986\n",
       "7           weight TMA group 19  0.032826\n",
       "8   num_assessment TMA group 19  0.031367\n",
       "9             activity group 29  0.030231\n",
       "10            activity group 24  0.025881\n",
       "11            activity group 28  0.023215\n",
       "12             content group 30  0.023054\n",
       "13            activity group 23  0.021040\n",
       "14             content group 31  0.018768\n",
       "15            activity group 26  0.017186\n",
       "16            activity group 27  0.016838\n",
       "17             content group 29  0.015683\n",
       "18            activity group 21  0.015683\n",
       "19             content group 23  0.012730"
      ]
     },
     "execution_count": 20,
     "metadata": {},
     "output_type": "execute_result"
    }
   ],
   "source": [
    "feature_imp = pd.DataFrame(sorted(list(zip(test.columns, model_1.feature_importances_)), key = lambda x: x[1], reverse=True)[0:20])\n",
    "feature_imp"
   ]
  },
  {
   "cell_type": "code",
   "execution_count": 21,
   "metadata": {},
   "outputs": [
    {
     "data": {
      "image/png": "[encoded data removed]",
      "text/plain": [
       "<matplotlib.figure.Figure at 0x1a18609588>"
      ]
     },
     "metadata": {},
     "output_type": "display_data"
    }
   ],
   "source": [
    "plt.bar(feature_imp[0], feature_imp[1], align='center', alpha=0.5)\n",
    "plt.xticks(feature_imp[0], feature_imp[1])\n",
    "plt.ylabel('importance')\n",
    "plt.title('variable importance')\n",
    "plt.show()"
   ]
  },
  {
   "cell_type": "markdown",
   "metadata": {
    "collapsed": true
   },
   "source": [
    "As expected, the strongest indicators of success and failure were tests (TMA), especially the tests taken towards the end of the course. Important online interactions mainly centered on overall activity and content activity. "
   ]
  },
  {
   "cell_type": "markdown",
   "metadata": {
    "collapsed": true
   },
   "source": [
    "# Conclusion"
   ]
  },
  {
   "cell_type": "markdown",
   "metadata": {},
   "source": [
    "As online learning continues to grow as a platform to educate students, it is important to consider how we can use the data associated with these programs to best identify students who are at risk for failure.\n",
    "\n",
    "I use random forests to see how early student failure can be predicted. The models showed that with demographic information alone, student failure can be predicted with 60% accuracy. As weekly information on student online interactions and assessments are added, predictions for students at risk for failure greatly increase. By week 8, the model improves to 75% accurcacy, and has over 85% accuracy by week 13.\n",
    "\n",
    "As educators continue to seek ways to identify students at risk for failure, this model provides a robust way to do so. However, it is not enough to find students at risk for failure. Intervention needs to be implemented to best understand how to improve the outcomes of these students. For analysis on best intervention techniques for students at risk for failure, please see the next project!"
   ]
  },
  {
   "cell_type": "code",
   "execution_count": null,
   "metadata": {
    "collapsed": true
   },
   "outputs": [],
   "source": []
  }
 ],
 "metadata": {
  "kernelspec": {
   "display_name": "Python 3",
   "language": "python",
   "name": "python3"
  },
  "language_info": {
   "codemirror_mode": {
    "name": "ipython",
    "version": 3
   },
   "file_extension": ".py",
   "mimetype": "text/x-python",
   "name": "python",
   "nbconvert_exporter": "python",
   "pygments_lexer": "ipython3",
   "version": "3.6.3"
  }
 },
 "nbformat": 4,
 "nbformat_minor": 2
}
